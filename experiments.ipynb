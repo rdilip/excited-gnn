{
 "cells": [
  {
   "cell_type": "code",
   "execution_count": 136,
   "id": "7729a799-02ed-4c76-a5e4-22c5348e21c5",
   "metadata": {},
   "outputs": [
    {
     "name": "stdout",
     "output_type": "stream",
     "text": [
      "The autoreload extension is already loaded. To reload it, use:\n",
      "  %reload_ext autoreload\n"
     ]
    }
   ],
   "source": [
    "%load_ext autoreload\n",
    "%autoreload 2"
   ]
  },
  {
   "cell_type": "code",
   "execution_count": 137,
   "id": "636a4bf0-156e-4484-9012-6dbd2aadd0b9",
   "metadata": {},
   "outputs": [],
   "source": [
    "import os\n",
    "import shutil\n",
    "import numpy as np\n",
    "import matplotlib.pyplot as plt\n",
    "import msgpack\n",
    "from collections import OrderedDict"
   ]
  },
  {
   "cell_type": "code",
   "execution_count": 138,
   "id": "69aebfcf-93b9-4eb8-82db-14adaaebd1b6",
   "metadata": {},
   "outputs": [],
   "source": [
    "import torch\n",
    "from torch.optim import Adam\n",
    "from torch.utils.data import DataLoader\n",
    "from torch import nn\n",
    "import torch.nn.functional as F"
   ]
  },
  {
   "cell_type": "code",
   "execution_count": 139,
   "id": "91ddd3b8-c711-4bee-a381-ee3e663f7624",
   "metadata": {},
   "outputs": [],
   "source": [
    "import torch_geometric"
   ]
  },
  {
   "cell_type": "code",
   "execution_count": 140,
   "id": "1da9632f-c8d8-42e6-bd1b-264ad2be2678",
   "metadata": {},
   "outputs": [],
   "source": [
    "from torch_geometric.nn import GCNConv, global_add_pool, global_mean_pool, Set2Set, GATv2Conv, GlobalAttention\n",
    "from torch_geometric.loader import DataLoader"
   ]
  },
  {
   "cell_type": "code",
   "execution_count": 141,
   "id": "60bc3d6d-97c6-4ea4-aeaa-ad49dfb68fa4",
   "metadata": {},
   "outputs": [],
   "source": [
    "from dataset import ExcitedDataset, GeometricTransform"
   ]
  },
  {
   "cell_type": "code",
   "execution_count": 142,
   "id": "b4f61b4c-a5b9-4f6e-b26c-92d900962c8d",
   "metadata": {},
   "outputs": [],
   "source": [
    "method = \"gap\""
   ]
  },
  {
   "cell_type": "code",
   "execution_count": 135,
   "id": "8549b189-8149-4de5-8e5a-4bfec690e203",
   "metadata": {},
   "outputs": [
    {
     "name": "stderr",
     "output_type": "stream",
     "text": [
      "Processing...\n",
      "Loading data...: 100%|████████████████████████████████████████████| 12/12 [00:12<00:00,  1.04s/it]\n",
      "Processing data...: 100%|████████████████████████████████████| 5927/5927 [00:08<00:00, 735.64it/s]\n",
      "Done!\n",
      "Processing...\n",
      "Loading data...: 100%|████████████████████████████████████████████| 12/12 [00:13<00:00,  1.14s/it]\n",
      "Processing data...: 100%|████████████████████████████████████| 5927/5927 [00:08<00:00, 718.37it/s]\n",
      "Done!\n",
      "Processing...\n",
      "Loading data...: 100%|████████████████████████████████████████████| 12/12 [00:11<00:00,  1.02it/s]\n",
      "Processing data...: 100%|████████████████████████████████████| 5927/5927 [00:08<00:00, 725.38it/s]\n",
      "Done!\n",
      "Processing...\n",
      "Loading data...: 100%|████████████████████████████████████████████| 12/12 [00:13<00:00,  1.09s/it]\n",
      "Processing data...: 100%|████████████████████████████████████| 5927/5927 [00:08<00:00, 693.56it/s]\n",
      "Done!\n"
     ]
    }
   ],
   "source": [
    "for method in ['log', 'normalize', 'gap', 'loggap']:\n",
    "    os.system(\"rm -rf processed\")\n",
    "    ds = ExcitedDataset(\".\", pre_transform=GeometricTransform(method))\n",
    "    test_dataset = ds[int(len(ds)*0.9):]\n",
    "    test_batch = next(iter(test_dl))\n",
    "    test_dl = DataLoader(test_dataset, batch_size=len(test_dataset), shuffle=False)\n",
    "    torch.save([test_batch.y, test_batch.ground_state], f\"test_batch_{method}.pt\")"
   ]
  },
  {
   "cell_type": "code",
   "execution_count": 143,
   "id": "7e75d71e-e9a1-42a6-b86e-304644d58ae5",
   "metadata": {},
   "outputs": [],
   "source": [
    "ds = ExcitedDataset(\".\", pre_transform=GeometricTransform(method))"
   ]
  },
  {
   "cell_type": "code",
   "execution_count": 144,
   "id": "798837a0-8a95-4cad-8f98-2332f88b5e3f",
   "metadata": {},
   "outputs": [],
   "source": [
    "train_dataset = ds[:int(len(ds)*0.9)]\n",
    "test_dataset = ds[int(len(ds)*0.9):]"
   ]
  },
  {
   "cell_type": "code",
   "execution_count": 145,
   "id": "b4d76870-504d-4d99-92e2-e766dbf6faf6",
   "metadata": {},
   "outputs": [],
   "source": [
    "dl = DataLoader(ds, batch_size=32, shuffle=True)\n",
    "train_dl = DataLoader(train_dataset, batch_size=32, shuffle=True)\n",
    "test_dl = DataLoader(test_dataset, batch_size=len(test_dataset), shuffle=False)\n",
    "train_dl_all = DataLoader(train_dataset, batch_size=len(train_dataset), shuffle=True)\n",
    "dl_all = DataLoader(ds, batch_size=len(ds), shuffle=True)\n",
    "test_batch = next(iter(test_dl))"
   ]
  },
  {
   "cell_type": "code",
   "execution_count": 146,
   "id": "ba069085-37f2-41af-b370-a2bd49edf7d3",
   "metadata": {},
   "outputs": [],
   "source": [
    "class GCN(torch.nn.Module):\n",
    "    def __init__(self):\n",
    "        super().__init__()\n",
    "        self.conv1 = GCNConv(6, 24)\n",
    "        self.conv2 = GCNConv(24, 10)\n",
    "        \n",
    "        self.pool = global_add_pool\n",
    "        self.fc1 = nn.Linear(10, 1)\n",
    "        \n",
    "    def forward(self, data):\n",
    "        x, edge_index, edge_weight = data.x, data.edge_index, data.edge_weight\n",
    "        \n",
    "        x = self.conv1(x, edge_index, edge_weight)\n",
    "        x = torch.tanh(x)\n",
    "        x = F.dropout(x, training=self.training)\n",
    "        \n",
    "        x = self.conv2(x, edge_index, edge_weight)\n",
    "        x = torch.tanh(x)\n",
    "        x = F.dropout(x, training=self.training)\n",
    "        \n",
    "        x = self.pool(x, data.batch)\n",
    "        x = self.fc1(x)\n",
    "        #x = torch.tanh(x)\n",
    "        # x = self.fc2(x)\n",
    "        \n",
    "        return x"
   ]
  },
  {
   "cell_type": "code",
   "execution_count": 147,
   "id": "157ed09f-21cd-4fd0-b448-ae493c7ed2f0",
   "metadata": {
    "tags": []
   },
   "outputs": [],
   "source": [
    "class GAT(torch.nn.Module):\n",
    "    def __init__(self):\n",
    "        super().__init__()\n",
    "        self.conv1 = GATv2Conv(6, 24)\n",
    "        self.conv2 = GATv2Conv(24, 24)\n",
    "        \n",
    "        self.pool = global_add_pool\n",
    "        # self.set2set = Set2Set(16, processing_steps=10)\n",
    "        # self.fc2 = nn.Linear(32, 16)\n",
    "        self.fc1 = nn.Linear(24, 1)\n",
    "        \n",
    "    def forward(self, data):\n",
    "        x, edge_index, edge_weight = data.x, data.edge_index, data.edge_weight\n",
    "        \n",
    "        x = self.conv1(x, edge_index, edge_weight)\n",
    "        x = torch.tanh(x)\n",
    "        x = F.dropout(x, training=self.training)\n",
    "        \n",
    "        x = self.conv2(x, edge_index, edge_weight)\n",
    "        x = torch.tanh(x)\n",
    "        x = F.dropout(x, training=self.training)\n",
    "        \n",
    "        x = self.pool(x, data.batch)\n",
    "        x = self.fc1(x)\n",
    "        \n",
    "        return x"
   ]
  },
  {
   "cell_type": "code",
   "execution_count": null,
   "id": "5d735cc2-f8b9-4c45-953b-2fdb6d94f27e",
   "metadata": {
    "tags": []
   },
   "outputs": [
    {
     "name": "stdout",
     "output_type": "stream",
     "text": [
      "Epoch 20 | Loss: 0.49617298334620297 | Test Loss: 2.1909708048596395\n",
      "Epoch 40 | Loss: 0.8976462941353294 | Test Loss: 1.0760201511240455\n",
      "Epoch 60 | Loss: 0.44406351212279843 | Test Loss: 1.468992190134967\n",
      "Epoch 80 | Loss: 1.0594919433810783 | Test Loss: 1.037589590149305\n"
     ]
    }
   ],
   "source": [
    "\n",
    "train_batch_eval = next(iter(train_dl_all))\n",
    "\n",
    "device = torch.device(\"cpu\")\n",
    "model = GAT().to(device)\n",
    "optimizer = torch.optim.Adam(model.parameters(), lr=0.01, weight_decay=5.e-4)\n",
    "model.train()\n",
    "losses = []\n",
    "Nepochs=200\n",
    "for epoch in range(Nepochs):\n",
    "    model.train()\n",
    "    if epoch % (Nepochs//10) == 0 and epoch != 0:\n",
    "        print(f\"Epoch {epoch} | Loss: {loss} | Test Loss: {test_loss.detach().numpy()}\")\n",
    "    for batch in train_dl:\n",
    "        optimizer.zero_grad()\n",
    "        out = model(batch)\n",
    "        loss = F.mse_loss(out, batch.y, reduction=\"mean\")\n",
    "        loss.backward()\n",
    "        optimizer.step()\n",
    "    \n",
    "    test_loss = F.mse_loss(model(test_batch), test_batch.y, reduction=\"mean\")\n",
    "    losses.append(test_loss.detach().numpy())"
   ]
  },
  {
   "cell_type": "code",
   "execution_count": null,
   "id": "bfc6ef40-3fce-4673-a0ab-e0a4e141fbc7",
   "metadata": {},
   "outputs": [],
   "source": [
    "# data = []\n",
    "# def print_value(name):\n",
    "#     def hook(model, input, output):\n",
    "#         data.append(output)\n",
    "#     return hook\n",
    "# conv1hook = model.conv1.register_forward_hook(print_value(\"conv1\"))\n",
    "# model.eval()\n",
    "# train_batch = next(iter(train_dl))\n",
    "# model(train_batch);"
   ]
  },
  {
   "cell_type": "code",
   "execution_count": null,
   "id": "7db0012f-ad65-42e8-a8d7-a4197a070d4b",
   "metadata": {},
   "outputs": [],
   "source": [
    "x1 = test_batch.y.squeeze().detach().numpy()\n",
    "x2 = model(test_batch).squeeze().detach().numpy()"
   ]
  },
  {
   "cell_type": "code",
   "execution_count": 150,
   "id": "67c939b5-ebef-4c59-a6b9-568a1b3defe3",
   "metadata": {},
   "outputs": [
    {
     "data": {
      "text/plain": [
       "<matplotlib.collections.PathCollection at 0x4594a01f0>"
      ]
     },
     "execution_count": 150,
     "metadata": {},
     "output_type": "execute_result"
    },
    {
     "data": {
      "image/png": "[encoded data removed]",
      "text/plain": [
       "<Figure size 432x288 with 1 Axes>"
      ]
     },
     "metadata": {
      "needs_background": "light"
     },
     "output_type": "display_data"
    }
   ],
   "source": [
    "plt.scatter(x1, x2)"
   ]
  },
  {
   "cell_type": "code",
   "execution_count": 152,
   "id": "226032bf-13c2-4ba6-86a1-7dc549f6c249",
   "metadata": {},
   "outputs": [],
   "source": [
    "import pickle\n",
    "all_data[(method, \"GCN\")] = [x1, x2, losses]\n",
    "with open(\"all_data.pkl\", \"wb+\") as f:\n",
    "    pickle.dump(all_data, f)\n"
   ]
  },
  {
   "cell_type": "code",
   "execution_count": 153,
   "id": "297543e1-904c-4ed3-93c0-dfd4945c9fcc",
   "metadata": {},
   "outputs": [
    {
     "data": {
      "text/plain": [
       "dict_keys([('loggap', 'GCN'), ('loggap', 'GAT'), ('gap', 'GCN'), ('gap', 'GAT'), ('normalize', 'GCN'), ('normalize', 'GAT'), ('log', 'GAT'), ('log', 'GCN')])"
      ]
     },
     "execution_count": 153,
     "metadata": {},
     "output_type": "execute_result"
    }
   ],
   "source": [
    "all_data.keys()"
   ]
  },
  {
   "cell_type": "code",
   "execution_count": null,
   "id": "222d2763-248f-4c94-ae36-9508716c127a",
   "metadata": {},
   "outputs": [],
   "source": []
  }
 ],
 "metadata": {
  "kernelspec": {
   "display_name": "Python 3 (ipykernel)",
   "language": "python",
   "name": "python3"
  },
  "language_info": {
   "codemirror_mode": {
    "name": "ipython",
    "version": 3
   },
   "file_extension": ".py",
   "mimetype": "text/x-python",
   "name": "python",
   "nbconvert_exporter": "python",
   "pygments_lexer": "ipython3",
   "version": "3.10.4"
  }
 },
 "nbformat": 4,
 "nbformat_minor": 5
}
